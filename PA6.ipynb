{
 "cells": [
  {
   "cell_type": "markdown",
   "id": "4f1e7ebc",
   "metadata": {},
   "source": [
    "# PA 6\n",
    "## Corey Merritt\n",
    "### CS-150 Python\n",
    "#### Fall 2023"
   ]
  },
  {
   "cell_type": "markdown",
   "id": "06e7fdac",
   "metadata": {},
   "source": [
    "Task1: Write a Python program will calculate the area and perimeter of a triangle using two different functions \n",
    "named calcArea() and calcPerimeter(). Your program should prompt the user for the length of three \n",
    "sides of the triangle. Each function should take the lengths of the sides as arguments and return the output of\n",
    "their respective calculations. As an added feature, set the default values of your parameters to 1 so if you call\n",
    "either function without parameters, it will still produce output) (I recommend using Heron’s Method for \n",
    "calculating the area of a triangle.)\n",
    "Here is a sample run of the program:\n",
    "Enter the length of side A: 5 \n",
    "Enter the length of side B: 5 \n",
    "Enter the length of side C: 5\n",
    "The area of the triangle is approximately 10.825318 square units. \n",
    "The perimeter of the triangle is 15 linear units.\n",
    "Enter the length of side A: 12 \n",
    "Enter the length of side B: 16 \n",
    "Enter the length of side C: 21\n",
    "The area of the triangle is approximately 95.451231 square units. \n",
    "The perimeter of the triangle is 49 linear units.\n",
    "area = calcArea()\n",
    "perimeter = calcPerimeter()\n",
    "The area of the triangle is approximately 0.433013 square units. \n",
    "The perimeter of the triangle is 3 linear units."
   ]
  },
  {
   "cell_type": "code",
   "execution_count": 1,
   "id": "58d25718",
   "metadata": {},
   "outputs": [
    {
     "name": "stdout",
     "output_type": "stream",
     "text": [
      "Enter the length of side A: 5\n",
      "Enter the length of side B: 5\n",
      "Enter the length of side C: 5\n",
      "The area of the triangle is approximately 10.825318 square units.\n",
      "The perimeter of the triangle is 15.0 linear units.\n",
      "Do you want to calculate again? (yes/no): yes\n",
      "Enter the length of side A: 12\n",
      "Enter the length of side B: 16\n",
      "Enter the length of side C: 21\n",
      "The area of the triangle is approximately 95.451231 square units.\n",
      "The perimeter of the triangle is 49.0 linear units.\n",
      "Do you want to calculate again? (yes/no): yes\n",
      "Enter the length of side A: 3\n",
      "Enter the length of side B: 9\n",
      "Enter the length of side C: 6\n",
      "The area of the triangle is approximately 0.000000 square units.\n",
      "The perimeter of the triangle is 18.0 linear units.\n",
      "Do you want to calculate again? (yes/no): no\n"
     ]
    }
   ],
   "source": [
    "import math\n",
    "\n",
    "def calcArea(a=1, b=1, c=1):\n",
    "    s = (a + b + c) / 2\n",
    "    area = math.sqrt(s * (s - a) * (s - b) * (s - c))\n",
    "    return area\n",
    "\n",
    "def calcPerimeter(a=1, b=1, c=1):\n",
    "    perimeter = a + b + c\n",
    "    return perimeter\n",
    "\n",
    "while True:\n",
    "    try:\n",
    "        side_a = float(input(\"Enter the length of side A: \"))\n",
    "        side_b = float(input(\"Enter the length of side B: \"))\n",
    "        side_c = float(input(\"Enter the length of side C: \"))\n",
    "    except ValueError:\n",
    "        print(\"Please enter valid numerical values for the side lengths.\")\n",
    "        continue\n",
    "    \n",
    "    area = calcArea(side_a, side_b, side_c)\n",
    "    perimeter = calcPerimeter(side_a, side_b, side_c)\n",
    "    \n",
    "    print(f\"The area of the triangle is approximately {area:.6f} square units.\")\n",
    "    print(f\"The perimeter of the triangle is {perimeter} linear units.\")\n",
    "    \n",
    "    another_calculation = input(\"Do you want to calculate again? (yes/no): \").lower()\n",
    "    if another_calculation != 'yes':\n",
    "        break"
   ]
  },
  {
   "cell_type": "markdown",
   "id": "107a091b",
   "metadata": {},
   "source": [
    "Task2: Write a Python program to play “Guess the Number”. Your program should generate a random \n",
    "number between 1 and 1000 and then prompt the user for a guess. Possible responses to the guess should be\n",
    "‘Too high! Guess again’, ‘Too low! Guess again’, and ‘Correct!’.\n",
    "The program should continue to prompt for input from the user until they supply the correct answer. \n",
    "The part of the program that evaluates the user’s guess should be in a function named \n",
    "evaluateGuess() that takes the guess and the randomly generated number as parameters. Here \n",
    "is a sample run of the program:\n",
    "Enter your guess:500 \n",
    "Too low! Guess again \n",
    "Enter your guess:750 \n",
    "Too low! Guess again \n",
    "Enter your guess:850\n",
    "Too low! Guess again \n",
    "Enter your guess:900 \n",
    "Too low! Guess again \n",
    "Enter your guess:950 \n",
    "Too high! Guess again \n",
    "Enter your guess:925 \n",
    "Too high! Guess again \n",
    "Enter your guess:910 \n",
    "Too low! Guess again \n",
    "Enter your guess:915 \n",
    "Correct!"
   ]
  },
  {
   "cell_type": "code",
   "execution_count": 2,
   "id": "87ea4a52",
   "metadata": {},
   "outputs": [
    {
     "name": "stdout",
     "output_type": "stream",
     "text": [
      "Enter your guess: 987\n",
      "Too high! Guess again\n",
      "Enter your guess: 856\n",
      "Too high! Guess again\n",
      "Enter your guess: 345\n",
      "Too low! Guess again\n",
      "Enter your guess: 565\n",
      "Too high! Guess again\n",
      "Enter your guess: 450\n",
      "Correct!\n"
     ]
    }
   ],
   "source": [
    "import random\n",
    "\n",
    "def evaluateGuess(guess, target):\n",
    "    if guess < target:\n",
    "        return \"Too low! Guess again\"\n",
    "    elif guess > target:\n",
    "        return \"Too high! Guess again\"\n",
    "    else:\n",
    "        return \"Correct!\"\n",
    "# Generate a random number between 1 and 1000\n",
    "target_number = random.randint(1, 1000)\n",
    "while True:\n",
    "    try:\n",
    "        user_guess = int(input(\"Enter your guess: \"))\n",
    "    except ValueError:\n",
    "        print(\"Please enter a valid number.\")\n",
    "        continue\n",
    "     \n",
    "    result = evaluateGuess(user_guess, target_number)\n",
    "    print(result)\n",
    "    \n",
    "    if result == \"Correct!\":\n",
    "        break"
   ]
  },
  {
   "cell_type": "markdown",
   "id": "2da3729b",
   "metadata": {},
   "source": [
    "Task3: Write a Python program to calculate the mean temperature over a set of Fahrenheit temperature \n",
    "values. Your program should calculate the mean in a function called meanTemp()and then print message that \n",
    "indicates the number of days your mean represents and the mean (see below). Your function should be flexible\n",
    "so that you can pass any number of temperatures to it. You do not need to get input from the user; simply \n",
    "include the temperatures in the function parameter list. Here is a sample run of the program:\n",
    "The mean temperature for the past 7 days is 88.00 degrees F. \n",
    "The mean temperature for the past 5 days is 88.20 degrees F. \n",
    "The mean temperature for the past 2 days is 90.00 degrees F"
   ]
  },
  {
   "cell_type": "code",
   "execution_count": 3,
   "id": "1d8e2512",
   "metadata": {},
   "outputs": [
    {
     "name": "stdout",
     "output_type": "stream",
     "text": [
      "The mean temperature for the past 7 days is 87.86 degrees F.\n",
      "The mean temperature for the past 5 days is 88.20 degrees F.\n",
      "The mean temperature for the past 2 days is 90.00 degrees F.\n"
     ]
    }
   ],
   "source": [
    "def meanTemp(*temperatures):\n",
    "    if not temperatures:\n",
    "        return \"No temperatures provided.\"\n",
    "\n",
    "    num_days = len(temperatures)\n",
    "    mean_temperature = sum(temperatures) / num_days\n",
    "    return f\"The mean temperature for the past {num_days} days is {mean_temperature:.2f} degrees F.\"\n",
    "\n",
    "# Sample temperature values\n",
    "temperatures_7_days = [90, 88, 86, 88, 89, 87, 87]\n",
    "temperatures_5_days = [89, 88, 87, 88, 89]\n",
    "temperatures_2_days = [91, 89]\n",
    "\n",
    "# Calculate and print the mean temperatures\n",
    "print(meanTemp(*temperatures_7_days))\n",
    "print(meanTemp(*temperatures_5_days))\n",
    "print(meanTemp(*temperatures_2_days))"
   ]
  }
 ],
 "metadata": {
  "kernelspec": {
   "display_name": "Python 3 (ipykernel)",
   "language": "python",
   "name": "python3"
  },
  "language_info": {
   "codemirror_mode": {
    "name": "ipython",
    "version": 3
   },
   "file_extension": ".py",
   "mimetype": "text/x-python",
   "name": "python",
   "nbconvert_exporter": "python",
   "pygments_lexer": "ipython3",
   "version": "3.11.4"
  }
 },
 "nbformat": 4,
 "nbformat_minor": 5
}
